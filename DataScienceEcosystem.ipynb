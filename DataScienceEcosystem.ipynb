{
 "cells": [
  {
   "cell_type": "markdown",
   "id": "ab7ed34b-8c78-4cda-8170-8cf3673a8bdd",
   "metadata": {},
   "source": [
    "# Data Science Tools and Ecosystem"
   ]
  },
  {
   "cell_type": "markdown",
   "id": "53b2ec49-c40e-43aa-9d7d-f86afca501c7",
   "metadata": {},
   "source": [
    "In this notebook, Data Science Tools and Ecosystem are summarized."
   ]
  },
  {
   "cell_type": "markdown",
   "id": "e23b984f-ace3-4657-8e4c-86cae1d3f629",
   "metadata": {},
   "source": [
    "**Objectives**\n",
    "- Create a Jupyter Notebook\n",
    "- Insert code and markdown cells\n",
    "- Share your notebook through Git-Hub"
   ]
  },
  {
   "cell_type": "markdown",
   "id": "2f687721-b739-4f3a-8736-00d7c7076926",
   "metadata": {},
   "source": [
    "Some of the poplar languages that Data Scientists use are:\n",
    "1. R\n",
    "2. SQL\n",
    "3. Python"
   ]
  },
  {
   "cell_type": "markdown",
   "id": "7047fe64-f3bb-40e9-b679-c7db41f8fd35",
   "metadata": {},
   "source": [
    "Some of the most commonly used libraries used by Data Scientists Include:\n",
    "1. Madplotlib\n",
    "2. Numpy\n",
    "3. Pandas"
   ]
  },
  {
   "cell_type": "markdown",
   "id": "528b33c0-1bf0-4be6-969f-37c6c8429489",
   "metadata": {},
   "source": [
    "|Data Science Tools|\n",
    "|------------------|\n",
    "|Jupyter Notebook|\n",
    "|Virtual Studio (VS)|\n",
    "|R Studio|"
   ]
  },
  {
   "cell_type": "markdown",
   "id": "00cacfdd-fa37-4961-bbc1-91f33a1b225c",
   "metadata": {},
   "source": [
    "### Below are a few examples of evaluating arithmetic expressions in Python"
   ]
  },
  {
   "cell_type": "code",
   "execution_count": 2,
   "id": "4838fd9e-1c20-4c48-9fc2-026c1060f2c5",
   "metadata": {},
   "outputs": [
    {
     "data": {
      "text/plain": [
       "17"
      ]
     },
     "execution_count": 2,
     "metadata": {},
     "output_type": "execute_result"
    }
   ],
   "source": [
    "# This is a simple arithmetic expression to multiple then add integers\n",
    "(3*4)+5"
   ]
  },
  {
   "cell_type": "code",
   "execution_count": 3,
   "id": "da5b126c-4519-4ba0-9071-87516fbbc8f7",
   "metadata": {},
   "outputs": [
    {
     "data": {
      "text/plain": [
       "3.3333333333333335"
      ]
     },
     "execution_count": 3,
     "metadata": {},
     "output_type": "execute_result"
    }
   ],
   "source": [
    "#This will convert 200 minutes to hours by dividing by 60\n",
    "200/60"
   ]
  },
  {
   "cell_type": "markdown",
   "id": "f2b1f3ec-9a75-44e8-835e-2d2dce3aa21d",
   "metadata": {},
   "source": [
    "## Author\n",
    "Yasser Rodriguez-Vargas"
   ]
  },
  {
   "cell_type": "code",
   "execution_count": null,
   "id": "5eb01ee5-4595-4082-8e76-e5d029a7f7b9",
   "metadata": {},
   "outputs": [],
   "source": []
  }
 ],
 "metadata": {
  "kernelspec": {
   "display_name": "Python [conda env:base] *",
   "language": "python",
   "name": "conda-base-py"
  },
  "language_info": {
   "codemirror_mode": {
    "name": "ipython",
    "version": 3
   },
   "file_extension": ".py",
   "mimetype": "text/x-python",
   "name": "python",
   "nbconvert_exporter": "python",
   "pygments_lexer": "ipython3",
   "version": "3.13.5"
  }
 },
 "nbformat": 4,
 "nbformat_minor": 5
}
